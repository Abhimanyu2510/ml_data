{
 "cells": [
  {
   "cell_type": "code",
   "execution_count": 64,
   "metadata": {},
   "outputs": [
    {
     "name": "stdout",
     "output_type": "stream",
     "text": [
      "TensorFlow version: 2.10.1\n"
     ]
    }
   ],
   "source": [
    "import tensorflow as tf\n",
    "print(\"TensorFlow version:\", tf.__version__)\n",
    "import pandas as pd"
   ]
  },
  {
   "cell_type": "code",
   "execution_count": 65,
   "metadata": {},
   "outputs": [],
   "source": [
    "walking_1 = pd.read_csv(\"Thingy_s1908968_Normal walking_Normal_clean_24-09-2023_16-53-54.csv\")\n",
    "running_1 = pd.read_csv(\"Thingy_s1908968_Running_Normal_clean_24-09-2023_17-07-50.csv\")\n",
    "walking_2 = pd.read_csv(\"Thingy_s2030247_Normal walking_Normal_clean_02-10-2023_15-14-15.csv\")\n",
    "running_2 = pd.read_csv(\"Thingy_s2030247_Running_Normal_clean_02-10-2023_15-09-08.csv\")\n",
    "walking_3 = pd.read_csv(\"Thingy_s2517267_Normal walking_Normal_cleaned_27-09-2023_19-14-38.csv\")\n",
    "running_3 = pd.read_csv(\"Thingy_s2517267_Running_Normal_cleaned_27-09-2023_19-25-50.csv\")"
   ]
  },
  {
   "cell_type": "code",
   "execution_count": 66,
   "metadata": {},
   "outputs": [],
   "source": [
    "walking_1 = walking_1.iloc[:,[2,3,4,5,6,7]][:700]\n",
    "running_1 = running_1.iloc[:,[2,3,4,5,6,7]][:700]\n",
    "walking_2 = walking_2.iloc[:,[2,3,4,5,6,7]][:700]\n",
    "running_2 = running_2.iloc[:,[2,3,4,5,6,7]][:700]\n",
    "walking_3 = walking_3.iloc[:,[2,3,4,5,6,7]][:600]\n",
    "running_3 = running_3.iloc[:,[2,3,4,5,6,7]][:600]\n"
   ]
  },
  {
   "cell_type": "code",
   "execution_count": 67,
   "metadata": {},
   "outputs": [],
   "source": [
    "walking_1 = walking_1.to_numpy()\n",
    "running_1 = running_1.to_numpy()\n",
    "walking_2 = walking_2.to_numpy()\n",
    "running_2 = running_2.to_numpy()\n",
    "walking_3 = walking_3.to_numpy()\n",
    "running_3 = running_3.to_numpy()\n"
   ]
  },
  {
   "cell_type": "code",
   "execution_count": 68,
   "metadata": {},
   "outputs": [],
   "source": [
    "import numpy as np\n",
    "import tensorflow as tf\n",
    "from tensorflow.keras.models import Sequential\n",
    "from tensorflow.keras.layers import LSTM, Dense"
   ]
  },
  {
   "cell_type": "code",
   "execution_count": 69,
   "metadata": {},
   "outputs": [
    {
     "data": {
      "text/plain": [
       "array([0, 0, 1, 1])"
      ]
     },
     "execution_count": 69,
     "metadata": {},
     "output_type": "execute_result"
    }
   ],
   "source": [
    "x_train = np.array([walking_1,walking_2,running_1,running_2])\n",
    "y_train = np.array([0,0,1,1])\n",
    "y_train"
   ]
  },
  {
   "cell_type": "code",
   "execution_count": 70,
   "metadata": {},
   "outputs": [
    {
     "name": "stdout",
     "output_type": "stream",
     "text": [
      "Epoch 1/5\n",
      "2/2 [==============================] - 2s 493ms/step - loss: 0.9220 - accuracy: 0.0000e+00 - val_loss: 0.6596 - val_accuracy: 1.0000\n",
      "Epoch 2/5\n",
      "2/2 [==============================] - 0s 103ms/step - loss: 0.8189 - accuracy: 0.0000e+00 - val_loss: 0.6610 - val_accuracy: 1.0000\n",
      "Epoch 3/5\n",
      "2/2 [==============================] - 0s 105ms/step - loss: 0.7334 - accuracy: 0.3333 - val_loss: 0.6631 - val_accuracy: 1.0000\n",
      "Epoch 4/5\n",
      "2/2 [==============================] - 0s 96ms/step - loss: 0.6634 - accuracy: 0.6667 - val_loss: 0.6674 - val_accuracy: 1.0000\n",
      "Epoch 5/5\n",
      "2/2 [==============================] - 0s 94ms/step - loss: 0.5996 - accuracy: 1.0000 - val_loss: 0.6759 - val_accuracy: 1.0000\n"
     ]
    },
    {
     "data": {
      "text/plain": [
       "<keras.callbacks.History at 0x25f1411bac0>"
      ]
     },
     "execution_count": 70,
     "metadata": {},
     "output_type": "execute_result"
    }
   ],
   "source": [
    "model = Sequential()\n",
    "model.add(LSTM(units=64, input_shape=(700, 6)))\n",
    "model.add(Dense(units=1, activation='sigmoid')) # 1= 1 output (binary) if more also use softmax\n",
    "\n",
    "model.compile(loss='binary_crossentropy', optimizer='adam', metrics=['accuracy']) #using binary corss entropy as 2 labels\n",
    "\n",
    "model.fit(x_train, y_train, epochs=5, batch_size=2, validation_split=0.2)"
   ]
  },
  {
   "cell_type": "code",
   "execution_count": 73,
   "metadata": {},
   "outputs": [
    {
     "name": "stdout",
     "output_type": "stream",
     "text": [
      "1/1 [==============================] - 0s 63ms/step - loss: 0.2960 - accuracy: 1.0000\n",
      "Test Loss: 0.2960096001625061\n",
      "Test Accuracy: 1.0\n"
     ]
    }
   ],
   "source": [
    "x_test = np.array([walking_3,running_3])\n",
    "y_test = np.array([0,1])\n",
    "\n",
    "loss, accuracy = model.evaluate(x_test, y_test)\n",
    "print(\"Test Loss:\", loss)\n",
    "print(\"Test Accuracy:\", accuracy)"
   ]
  }
 ],
 "metadata": {
  "kernelspec": {
   "display_name": "tf",
   "language": "python",
   "name": "python3"
  },
  "language_info": {
   "codemirror_mode": {
    "name": "ipython",
    "version": 3
   },
   "file_extension": ".py",
   "mimetype": "text/x-python",
   "name": "python",
   "nbconvert_exporter": "python",
   "pygments_lexer": "ipython3",
   "version": "3.9.18"
  }
 },
 "nbformat": 4,
 "nbformat_minor": 2
}
